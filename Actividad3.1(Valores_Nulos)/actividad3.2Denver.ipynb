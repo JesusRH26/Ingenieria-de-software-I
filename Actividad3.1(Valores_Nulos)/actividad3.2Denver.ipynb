{
 "cells": [
  {
   "cell_type": "code",
   "execution_count": 2,
   "metadata": {},
   "outputs": [],
   "source": [
    "import pandas as pd\n",
    "import matplotlib.pyplot as mpl\n",
    "import numpy as np\n",
    "import seaborn as se"
   ]
  },
  {
   "cell_type": "code",
   "execution_count": 3,
   "metadata": {},
   "outputs": [],
   "source": [
    "doc = pd.read_csv('listings.csv')"
   ]
  },
  {
   "cell_type": "code",
   "execution_count": 6,
   "metadata": {},
   "outputs": [
    {
     "data": {
      "text/plain": [
       "id                                              0\n",
       "listing_url                                     0\n",
       "scrape_id                                       0\n",
       "last_scraped                                    0\n",
       "source                                          0\n",
       "                                               ..\n",
       "calculated_host_listings_count                  0\n",
       "calculated_host_listings_count_entire_homes     0\n",
       "calculated_host_listings_count_private_rooms    0\n",
       "calculated_host_listings_count_shared_rooms     0\n",
       "reviews_per_month                               0\n",
       "Length: 75, dtype: int64"
      ]
     },
     "execution_count": 6,
     "metadata": {},
     "output_type": "execute_result"
    }
   ],
   "source": [
    "copita= doc\n",
    "nulos=copita.isnull().sum()\n",
    "nulos"
   ]
  },
  {
   "cell_type": "code",
   "execution_count": 7,
   "metadata": {},
   "outputs": [
    {
     "data": {
      "text/plain": [
       "id                                              0\n",
       "listing_url                                     0\n",
       "scrape_id                                       0\n",
       "last_scraped                                    0\n",
       "source                                          0\n",
       "                                               ..\n",
       "calculated_host_listings_count                  0\n",
       "calculated_host_listings_count_entire_homes     0\n",
       "calculated_host_listings_count_private_rooms    0\n",
       "calculated_host_listings_count_shared_rooms     0\n",
       "reviews_per_month                               0\n",
       "Length: 75, dtype: int64"
      ]
     },
     "execution_count": 7,
     "metadata": {},
     "output_type": "execute_result"
    }
   ],
   "source": [
    "copita[\"description\"] = copita[\"description\"].fillna(\"Desconocido\")\n",
    "copita[\"neighborhood_overview\"] = copita[\"neighborhood_overview\"].fillna(\"Desconocido\")\n",
    "copita[\"host_location\"] = copita[\"host_location\"].fillna(\"Denver, CO\")\n",
    "copita[\"host_about\"] = copita[\"host_about\"].fillna(\"Desconocido\")\n",
    "copita[\"host_response_time\"] = copita[\"host_response_time\"].fillna(\"Desconocido\")\n",
    "copita[\"host_response_rate\"] = copita[\"host_response_rate\"].fillna(\"Desconocido\")\n",
    "copita[\"host_acceptance_rate\"] = copita[\"host_acceptance_rate\"].fillna(\"0%\")\n",
    "copita[\"host_is_superhost\"] = copita[\"host_is_superhost\"].fillna(\"f\")\n",
    "copita[\"neighbourhood\"] = copita[\"neighbourhood\"].fillna(\"Neighborhood highlights\")\n",
    "copita[\"bathrooms\"] = copita[\"bathrooms\"].fillna(\"0\")\n",
    "copita[\"bedrooms\"] = copita[\"bedrooms\"].fillna(\"0\")\n",
    "copita[\"beds\"] = copita[\"beds\"].fillna(\"0\")\n",
    "copita[\"price\"] = copita[\"price\"].fillna(\"$0\")\n",
    "copita[\"has_availability\"] = copita[\"has_availability\"].fillna(\"f\")\n",
    "copita[\"review_scores_rating\"]=copita[\"review_scores_rating\"].fillna(round(doc[\"review_scores_rating\"].mean(),1))\n",
    "copita[\"review_scores_accuracy\"]=copita[\"review_scores_accuracy\"].fillna(round(doc[\"review_scores_accuracy\"].mean(),1))\n",
    "copita[\"review_scores_cleanliness\"]=copita[\"review_scores_cleanliness\"].fillna(round(doc[\"review_scores_cleanliness\"].mean(),1))\n",
    "copita[\"review_scores_checkin\"]=copita[\"review_scores_checkin\"].fillna(round(doc[\"review_scores_checkin\"].mean(),1))\n",
    "copita[\"review_scores_location\"]=copita[\"review_scores_location\"].fillna(round(doc[\"review_scores_location\"].mean(),1))\n",
    "copita[\"review_scores_communication\"]=copita[\"review_scores_communication\"].fillna(round(doc[\"review_scores_communication\"].mean(),1))\n",
    "copita[\"review_scores_value\"]=copita[\"review_scores_value\"].fillna(round(doc[\"review_scores_value\"].mean(),1))\n",
    "copita[\"reviews_per_month\"]=copita[\"reviews_per_month\"].fillna(round(doc[\"reviews_per_month\"].mean(),1))\n",
    "\n",
    "nulos=copita.isnull().sum()\n",
    "nulos"
   ]
  },
  {
   "cell_type": "code",
   "execution_count": 8,
   "metadata": {},
   "outputs": [],
   "source": [
    "copita.to_csv(\"Actividad3.2Denver.csv\")"
   ]
  },
  {
   "cell_type": "code",
   "execution_count": 10,
   "metadata": {},
   "outputs": [
    {
     "data": {
      "text/plain": [
       "id                                                 0\n",
       "listing_url                                        0\n",
       "scrape_id                                          0\n",
       "last_scraped                                       0\n",
       "source                                             0\n",
       "                                                ... \n",
       "calculated_host_listings_count                     0\n",
       "calculated_host_listings_count_entire_homes        0\n",
       "calculated_host_listings_count_private_rooms       0\n",
       "calculated_host_listings_count_shared_rooms        0\n",
       "reviews_per_month                               3656\n",
       "Length: 75, dtype: int64"
      ]
     },
     "execution_count": 10,
     "metadata": {},
     "output_type": "execute_result"
    }
   ],
   "source": [
    "docsito=pd.read_csv('listingsCDMX.csv')\n",
    "\n",
    "copion= docsito\n",
    "\n",
    "nulos=copion.isnull().sum()\n",
    "nulos"
   ]
  },
  {
   "cell_type": "code",
   "execution_count": 11,
   "metadata": {},
   "outputs": [
    {
     "data": {
      "text/plain": [
       "id                                              0\n",
       "listing_url                                     0\n",
       "scrape_id                                       0\n",
       "last_scraped                                    0\n",
       "source                                          0\n",
       "                                               ..\n",
       "calculated_host_listings_count                  0\n",
       "calculated_host_listings_count_entire_homes     0\n",
       "calculated_host_listings_count_private_rooms    0\n",
       "calculated_host_listings_count_shared_rooms     0\n",
       "reviews_per_month                               0\n",
       "Length: 75, dtype: int64"
      ]
     },
     "execution_count": 11,
     "metadata": {},
     "output_type": "execute_result"
    }
   ],
   "source": [
    "copion[\"description\"] = copion[\"description\"].fillna(\"Desconocido\")\n",
    "copion[\"neighborhood_overview\"] = copion[\"neighborhood_overview\"].fillna(\"Desconocido\")\n",
    "copion[\"host_location\"] = copion[\"host_location\"].fillna(\"Denver, CO\")\n",
    "copion[\"host_about\"] = copion[\"host_about\"].fillna(\"Desconocido\")\n",
    "copion[\"host_response_time\"] = copion[\"host_response_time\"].fillna(\"Desconocido\")\n",
    "copion[\"host_response_rate\"] = copion[\"host_response_rate\"].fillna(\"Desconocido\")\n",
    "copion[\"host_acceptance_rate\"] = copion[\"host_acceptance_rate\"].fillna(\"0%\")\n",
    "copion[\"host_is_superhost\"] = copion[\"host_is_superhost\"].fillna(\"f\")\n",
    "copion[\"neighbourhood\"] = copion[\"neighbourhood\"].fillna(\"Neighborhood highlights\")\n",
    "copion[\"bathrooms\"] = copion[\"bathrooms\"].fillna(\"0\")\n",
    "copion[\"bedrooms\"] = copion[\"bedrooms\"].fillna(\"0\")\n",
    "copion[\"beds\"] = copion[\"beds\"].fillna(\"0\")\n",
    "copion[\"price\"] = copion[\"price\"].fillna(\"$0\")\n",
    "copion[\"has_availability\"] = copion[\"has_availability\"].fillna(\"f\")\n",
    "copion[\"review_scores_rating\"]=copion[\"review_scores_rating\"].fillna(round(docsito[\"review_scores_rating\"].mean(),1))\n",
    "copion[\"review_scores_accuracy\"]=copion[\"review_scores_accuracy\"].fillna(round(docsito[\"review_scores_accuracy\"].mean(),1))\n",
    "copion[\"review_scores_cleanliness\"]=copion[\"review_scores_cleanliness\"].fillna(round(docsito[\"review_scores_cleanliness\"].mean(),1))\n",
    "copion[\"review_scores_checkin\"]=copion[\"review_scores_checkin\"].fillna(round(docsito[\"review_scores_checkin\"].mean(),1))\n",
    "copion[\"review_scores_location\"]=copion[\"review_scores_location\"].fillna(round(docsito[\"review_scores_location\"].mean(),1))\n",
    "copion[\"review_scores_communication\"]=copion[\"review_scores_communication\"].fillna(round(docsito[\"review_scores_communication\"].mean(),1))\n",
    "copion[\"review_scores_value\"]=copion[\"review_scores_value\"].fillna(round(docsito[\"review_scores_value\"].mean(),1))\n",
    "copion[\"reviews_per_month\"]=copion[\"reviews_per_month\"].fillna(round(docsito[\"reviews_per_month\"].mean(),1))\n",
    "\n",
    "nulos=copion.isnull().sum()\n",
    "nulos"
   ]
  },
  {
   "cell_type": "code",
   "execution_count": 12,
   "metadata": {},
   "outputs": [],
   "source": [
    "copion.to_csv(\"Actividad3.2CDMX.csv\")"
   ]
  }
 ],
 "metadata": {
  "kernelspec": {
   "display_name": "Python 3",
   "language": "python",
   "name": "python3"
  },
  "language_info": {
   "codemirror_mode": {
    "name": "ipython",
    "version": 3
   },
   "file_extension": ".py",
   "mimetype": "text/x-python",
   "name": "python",
   "nbconvert_exporter": "python",
   "pygments_lexer": "ipython3",
   "version": "3.13.1"
  }
 },
 "nbformat": 4,
 "nbformat_minor": 2
}
